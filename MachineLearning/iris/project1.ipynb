{
 "cells": [
  {
   "cell_type": "markdown",
   "metadata": {},
   "source": [
    "# Project: Iris Classification\n",
    "\n",
    "- Date: July 7 2025\n",
    "\n",
    "- Data: We will use here the iris data from the fetch_ucirepo (id = 53) function come from the ucimlrepo module.\n",
    "\n",
    "- Description: In this first machine learning projet, we will try to build a model able to predict the type of a flower amoung all the type we have in instance Setosa, Versicolor or Virginica regarding some features. \n"
   ]
  },
  {
   "cell_type": "markdown",
   "metadata": {},
   "source": [
    "## Downloading of the data"
   ]
  },
  {
   "cell_type": "code",
   "execution_count": 5,
   "metadata": {},
   "outputs": [],
   "source": [
    "#Extraction of the data\n",
    "from ucimlrepo import fetch_ucirepo \n",
    "\n",
    "# fetch dataset \n",
    "iris = fetch_ucirepo(id=53) \n",
    "  \n",
    "# data (as pandas dataframes) \n",
    "X = iris.data.features \n",
    "y = iris.data.targets \n"
   ]
  },
  {
   "cell_type": "code",
   "execution_count": 9,
   "metadata": {},
   "outputs": [
    {
     "name": "stdout",
     "output_type": "stream",
     "text": [
      "           name     role         type demographic  \\\n",
      "0  sepal length  Feature   Continuous        None   \n",
      "1   sepal width  Feature   Continuous        None   \n",
      "2  petal length  Feature   Continuous        None   \n",
      "3   petal width  Feature   Continuous        None   \n",
      "4         class   Target  Categorical        None   \n",
      "\n",
      "                                         description units missing_values  \n",
      "0                                               None    cm             no  \n",
      "1                                               None    cm             no  \n",
      "2                                               None    cm             no  \n",
      "3                                               None    cm             no  \n",
      "4  class of iris plant: Iris Setosa, Iris Versico...  None             no  \n"
     ]
    }
   ],
   "source": [
    "#To know more about the data\n",
    "\n",
    "# metadata \n",
    "#print(iris.metadata) \n",
    "  \n",
    "# variable information \n",
    "print(iris.variables)"
   ]
  },
  {
   "cell_type": "code",
   "execution_count": 12,
   "metadata": {},
   "outputs": [
    {
     "name": "stdout",
     "output_type": "stream",
     "text": [
      "     sepal length  sepal width  petal length  petal width\n",
      "0             5.1          3.5           1.4          0.2\n",
      "1             4.9          3.0           1.4          0.2\n",
      "2             4.7          3.2           1.3          0.2\n",
      "3             4.6          3.1           1.5          0.2\n",
      "4             5.0          3.6           1.4          0.2\n",
      "..            ...          ...           ...          ...\n",
      "145           6.7          3.0           5.2          2.3\n",
      "146           6.3          2.5           5.0          1.9\n",
      "147           6.5          3.0           5.2          2.0\n",
      "148           6.2          3.4           5.4          2.3\n",
      "149           5.9          3.0           5.1          1.8\n",
      "\n",
      "[150 rows x 4 columns]\n",
      "***************************************\n",
      "              class\n",
      "0       Iris-setosa\n",
      "1       Iris-setosa\n",
      "2       Iris-setosa\n",
      "3       Iris-setosa\n",
      "4       Iris-setosa\n",
      "..              ...\n",
      "145  Iris-virginica\n",
      "146  Iris-virginica\n",
      "147  Iris-virginica\n",
      "148  Iris-virginica\n",
      "149  Iris-virginica\n",
      "\n",
      "[150 rows x 1 columns]\n"
     ]
    }
   ],
   "source": [
    "# some features and their target\n",
    "print(X)\n",
    "print(\"***************************************\")\n",
    "print(y)"
   ]
  },
  {
   "cell_type": "markdown",
   "metadata": {},
   "source": [
    "## Building of models, training and evaluation"
   ]
  },
  {
   "cell_type": "code",
   "execution_count": 13,
   "metadata": {},
   "outputs": [
    {
     "name": "stderr",
     "output_type": "stream",
     "text": [
      "/usr/lib/python3/dist-packages/scipy/__init__.py:146: UserWarning: A NumPy version >=1.17.3 and <1.25.0 is required for this version of SciPy (detected version 1.26.4\n",
      "  warnings.warn(f\"A NumPy version >={np_minversion} and <{np_maxversion}\"\n"
     ]
    }
   ],
   "source": [
    "from sklearn.tree import DecisionTreeClassifier\n",
    "from sklearn.linear_model import LogisticRegression\n",
    "from sklearn.neighbors import KNeighborsClassifier\n",
    "from sklearn.svm import SVC\n",
    "from sklearn.model_selection import train_test_split"
   ]
  },
  {
   "cell_type": "code",
   "execution_count": 14,
   "metadata": {},
   "outputs": [
    {
     "name": "stdout",
     "output_type": "stream",
     "text": [
      "150\n"
     ]
    }
   ],
   "source": [
    "#Dataset split\n",
    "dimension=len(X)\n",
    "print(dimension)\n",
    "\n",
    "X_train,X_val,y_train,y_val=train_test_split(X,y,train_size=0.8,random_state=42)"
   ]
  },
  {
   "cell_type": "code",
   "execution_count": 15,
   "metadata": {},
   "outputs": [
    {
     "name": "stderr",
     "output_type": "stream",
     "text": [
      "/home/christian/.local/lib/python3.10/site-packages/sklearn/utils/validation.py:1408: DataConversionWarning: A column-vector y was passed when a 1d array was expected. Please change the shape of y to (n_samples, ), for example using ravel().\n",
      "  y = column_or_1d(y, warn=True)\n",
      "/home/christian/.local/lib/python3.10/site-packages/sklearn/neighbors/_classification.py:239: DataConversionWarning: A column-vector y was passed when a 1d array was expected. Please change the shape of y to (n_samples,), for example using ravel().\n",
      "  return self._fit(X, y)\n",
      "/home/christian/.local/lib/python3.10/site-packages/sklearn/utils/validation.py:1408: DataConversionWarning: A column-vector y was passed when a 1d array was expected. Please change the shape of y to (n_samples, ), for example using ravel().\n",
      "  y = column_or_1d(y, warn=True)\n",
      "/home/christian/.local/lib/python3.10/site-packages/sklearn/utils/validation.py:1408: DataConversionWarning: A column-vector y was passed when a 1d array was expected. Please change the shape of y to (n_samples, ), for example using ravel().\n",
      "  y = column_or_1d(y, warn=True)\n"
     ]
    }
   ],
   "source": [
    "#Initialisation of the models\n",
    "clf_dtree=DecisionTreeClassifier()\n",
    "clf_logreg= LogisticRegression()\n",
    "clf_nn=KNeighborsClassifier(n_neighbors=3)\n",
    "clf_svc1=SVC(kernel='linear')\n",
    "clf_svc2=SVC(kernel='rbf')\n",
    "\n",
    "#Training\n",
    "clf_dtree.fit(X_train,y_train)\n",
    "clf_logreg.fit(X_train,y_train)\n",
    "clf_nn.fit(X_train,y_train)\n",
    "clf_svc1.fit(X_train,y_train)\n",
    "clf_svc2.fit(X_train,y_train)\n",
    "\n",
    "#Prediction\n",
    "y_pred_dtree=clf_dtree.predict(X_val)\n",
    "y_pred_logreg=clf_logreg.predict(X_val)\n",
    "y_pred_nn=clf_nn.predict(X_val)\n",
    "y_pred_svc1=clf_svc1.predict(X_val)\n",
    "y_pred_svc2=clf_svc2.predict(X_val)\n"
   ]
  },
  {
   "cell_type": "markdown",
   "metadata": {},
   "source": [
    "# Metrics\n"
   ]
  },
  {
   "cell_type": "code",
   "execution_count": 16,
   "metadata": {},
   "outputs": [],
   "source": [
    "from sklearn.metrics import accuracy_score, precision_score, recall_score, f1_score"
   ]
  },
  {
   "cell_type": "code",
   "execution_count": 19,
   "metadata": {},
   "outputs": [
    {
     "name": "stdout",
     "output_type": "stream",
     "text": [
      "Decision Tree: \n",
      "\tAccuracy  1.0\n",
      "\tPrecision  1.0\n",
      "\tRecall  1.0\n",
      "\tF1 score 1.0\n",
      "Logistic regression: \n",
      "\tAccuracy  1.0\n",
      "\tPrecision  1.0\n",
      "\tRecall  1.0\n",
      "\tF1 score 1.0\n",
      "KNearest Neighbor: \n",
      "\tAccuracy  1.0\n",
      "\tPrecision  1.0\n",
      "\tRecall  1.0\n",
      "\tF1 score 1.0\n",
      "SVM (kernel=linear): \n",
      "\tAccuracy  1.0\n",
      "\tPrecision  1.0\n",
      "\tRecall  1.0\n",
      "\tF1 score 1.0\n",
      "SVM (kernel=rbf): \n",
      "\tAccuracy  1.0\n",
      "\tPrecision  1.0\n",
      "\tRecall  1.0\n",
      "\tF1 score 1.0\n"
     ]
    }
   ],
   "source": [
    "#Evaluation using metrics\n",
    "\n",
    "def printMetrics(method_title, y_predict, y_true):\n",
    "    print(method_title) \n",
    "    print(\"\\tAccuracy \", accuracy_score(y_true,y_predict))\n",
    "    print(\"\\tPrecision \", precision_score(y_true,y_predict, average='weighted'))\n",
    "    print(\"\\tRecall \", recall_score(y_true,y_predict, average='weighted'))\n",
    "    print(\"\\tF1 score\", f1_score(y_true,y_predict, average='weighted'))\n",
    "\n",
    "printMetrics(\"Decision Tree: \", y_pred_dtree, y_val)\n",
    "printMetrics(\"Logistic regression: \",y_pred_logreg, y_val)\n",
    "printMetrics(\"KNearest Neighbor: \",y_pred_nn, y_val)\n",
    "printMetrics(\"SVM (kernel=linear): \",y_pred_svc1, y_val)\n",
    "printMetrics(\"SVM (kernel=rbf): \",y_pred_svc2, y_val)\n"
   ]
  },
  {
   "cell_type": "markdown",
   "metadata": {},
   "source": [
    "# Conclusion\n",
    "\n",
    "Finaly we don't see here any differences between the different models. Maybe the dataset is too short to help us to see a difference between all this models and algorithms.\n",
    "\n",
    "We also notice that the SVM methods, with kernel='linear' and kernel='rbf', have the same perfect result, the 'linear' manage to fit with this kind of data that means the different classes are linearly separable and we did even need the 'rbf' one.\n",
    "\n",
    "Next time we will work on a bigger dataset."
   ]
  },
  {
   "cell_type": "markdown",
   "metadata": {},
   "source": []
  }
 ],
 "metadata": {
  "kernelspec": {
   "display_name": "Python 3",
   "language": "python",
   "name": "python3"
  },
  "language_info": {
   "codemirror_mode": {
    "name": "ipython",
    "version": 3
   },
   "file_extension": ".py",
   "mimetype": "text/x-python",
   "name": "python",
   "nbconvert_exporter": "python",
   "pygments_lexer": "ipython3",
   "version": "3.10.12"
  }
 },
 "nbformat": 4,
 "nbformat_minor": 2
}
