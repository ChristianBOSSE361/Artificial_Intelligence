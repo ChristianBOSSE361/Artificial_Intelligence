{
 "cells": [
  {
   "cell_type": "markdown",
   "id": "6006b739",
   "metadata": {},
   "source": [
    "# Project: Customer classification (Online Retail II)\n",
    "\n",
    "- Date: August 5 2025 -\n",
    "\n",
    "- Data: This Online Retail II data set contains all the transactions occurring for a UK-based and registered, non-store online retail between 01/12/2009 and 09/12/2011.The company mainly sells unique all-occasion gift-ware. Many customers of the company are wholesalers.\n",
    "\n",
    "- Description: In this project our goal will be to use this data to detect some similarities between the customers,divide them in some groups with some particular habits or behaviors. This project could be very interresting for marketing strategies. "
   ]
  },
  {
   "cell_type": "code",
   "execution_count": null,
   "id": "57bb84a6",
   "metadata": {},
   "outputs": [
    {
     "name": "stdout",
     "output_type": "stream",
     "text": [
      "Number of customers:  4372\n",
      "Name of columns:  Index(['Invoice', 'StockCode', 'Description', 'Quantity', 'InvoiceDate',\n",
      "       'Price', 'Customer ID', 'Country'],\n",
      "      dtype='object')\n",
      "Number of features(colomns): 8\n",
      "shape of the data frame:  (541910, 8)\n"
     ]
    }
   ],
   "source": [
    "import pandas as pd\n",
    "\n",
    "# Download the excel file\n",
    "df = pd.read_excel('/home/christian/ProjetsPerso/IA/MachineLearning/Customer_Classification/data/online_retail_II.xlsx',\n",
    "                    sheet_name=\"Year 2010-2011\",\n",
    "                   dtype={\"Invoice\": str, \"StockCode\": str, \"Customer ID\": str},\n",
    "                   parse_dates=[\"InvoiceDate\"]\n",
    "                   )\n",
    "\n",
    "# Information on the data frame\n",
    "print(\"Number of customers: \", df[\"Customer ID\"].nunique())\n",
    "print(\"Name of columns: \", df.columns)\n",
    "print(\"Number of features(colomns):\", len(df.columns))\n",
    "print(\"shape of the data frame: \", df.shape)\n"
   ]
  },
  {
   "cell_type": "markdown",
   "id": "b84ad5ab",
   "metadata": {},
   "source": [
    "# Cleaning the data\n",
    "Now we will try to clean the data, deleting lines without customers or resigned transactions and to remove duplicate values. We will also add a colimn Totalprice as the multiplication of the quantity by the unity prices."
   ]
  },
  {
   "cell_type": "code",
   "execution_count": null,
   "id": "e8ef00f2",
   "metadata": {},
   "outputs": [
    {
     "name": "stdout",
     "output_type": "stream",
     "text": [
      "After drop nan Customer ID : (401605, 8)\n",
      "After deleting unfinished transaction/neg. quantity : (392733, 8)\n",
      "After drop_duplicates : (392733, 8)\n",
      "after adding 'TotalPrice':  (392733, 9)\n"
     ]
    }
   ],
   "source": [
    "# delete line without Customer id\n",
    "df = df.dropna(subset=[\"Customer ID\"])\n",
    "print(\"After drop nan Customer ID :\", df.shape)\n",
    "\n",
    "# delete not finish transaction and negative quantity\n",
    "mask_return = df[\"Quantity\"] < 0\n",
    "mask_cancel = df[\"Invoice\"].str.startswith(\"C\")\n",
    "df = df[~(mask_return | mask_cancel)]\n",
    "print(\"After deleting unfinished transaction/neg. quantity :\" , df.shape)\n",
    "\n",
    "# delete duplicate line\n",
    "df = df.drop_duplicates()\n",
    "print(\"After drop_duplicates :\", df.shape)\n",
    "\n",
    "# columns \"TotalPrice\"\n",
    "df[\"TotalPrice\"]=df[\"Quantity\"] * df[\"Price\"]\n",
    "print(\"After adding 'TotalPrice': \",df.shape)"
   ]
  },
  {
   "cell_type": "code",
   "execution_count": null,
   "id": "f41e13c8",
   "metadata": {},
   "outputs": [
    {
     "ename": "TypeError",
     "evalue": "int() argument must be a string, a bytes-like object or a real number, not 'list'",
     "output_type": "error",
     "traceback": [
      "\u001b[0;31m---------------------------------------------------------------------------\u001b[0m",
      "\u001b[0;31mTypeError\u001b[0m                                 Traceback (most recent call last)",
      "Cell \u001b[0;32mIn[18], line 1\u001b[0m\n\u001b[0;32m----> 1\u001b[0m \u001b[38;5;28;43mint\u001b[39;49m\u001b[43m(\u001b[49m\u001b[43m[\u001b[49m\u001b[38;5;124;43m\"\u001b[39;49m\u001b[38;5;124;43m1\u001b[39;49m\u001b[38;5;124;43m\"\u001b[39;49m\u001b[43m,\u001b[49m\u001b[38;5;124;43m\"\u001b[39;49m\u001b[38;5;124;43m2324\u001b[39;49m\u001b[38;5;124;43m\"\u001b[39;49m\u001b[43m]\u001b[49m\u001b[43m)\u001b[49m\n",
      "\u001b[0;31mTypeError\u001b[0m: int() argument must be a string, a bytes-like object or a real number, not 'list'"
     ]
    }
   ],
   "source": [
    "[\"1\",\"2324\"]"
   ]
  },
  {
   "cell_type": "code",
   "execution_count": null,
   "id": "8edb1dd2",
   "metadata": {},
   "outputs": [],
   "source": []
  },
  {
   "cell_type": "markdown",
   "id": "12579ce9",
   "metadata": {},
   "source": [
    "churn risk, "
   ]
  }
 ],
 "metadata": {
  "kernelspec": {
   "display_name": "Python 3",
   "language": "python",
   "name": "python3"
  },
  "language_info": {
   "codemirror_mode": {
    "name": "ipython",
    "version": 3
   },
   "file_extension": ".py",
   "mimetype": "text/x-python",
   "name": "python",
   "nbconvert_exporter": "python",
   "pygments_lexer": "ipython3",
   "version": "3.10.12"
  }
 },
 "nbformat": 4,
 "nbformat_minor": 5
}
