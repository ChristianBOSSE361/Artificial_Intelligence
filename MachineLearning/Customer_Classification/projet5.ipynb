{
 "cells": [
  {
   "cell_type": "markdown",
   "id": "6006b739",
   "metadata": {},
   "source": [
    "# Project: Customer classification (Online Retail II)\n",
    "\n",
    "- Date: August 5 2025 -\n",
    "\n",
    "- Data: This Online Retail II data set contains all the transactions occurring for a UK-based and registered, non-store online retail between 01/12/2009 and 09/12/2011.The company mainly sells unique all-occasion gift-ware. Many customers of the company are wholesalers.\n",
    "\n",
    "- Description: In this project our goal will be to use this data to detect some similarities between the customers,divide them in some groups with some particular habits or behaviors. This project could be very interresting for marketing strategies. "
   ]
  },
  {
   "cell_type": "code",
   "execution_count": null,
   "id": "57bb84a6",
   "metadata": {},
   "outputs": [
    {
     "name": "stdout",
     "output_type": "stream",
     "text": [
      "Number of customers:  4372\n",
      "Name of columns:  Index(['Invoice', 'StockCode', 'Description', 'Quantity', 'InvoiceDate',\n",
      "       'Price', 'Customer ID', 'Country'],\n",
      "      dtype='object')\n",
      "Number of features(colomns): 8\n",
      "shape of the data frame:  (541910, 8)\n"
     ]
    }
   ],
   "source": [
    "import pandas as pd\n",
    "\n",
    "# Download the excel file\n",
    "df = pd.read_excel('/home/christian/ProjetsPerso/IA/MachineLearning/Customer_Classification/data/online_retail_II.xlsx',\n",
    "                    sheet_name=\"Year 2010-2011\",\n",
    "                   dtype={\"Invoice\": str, \"StockCode\": str, \"Customer ID\": str},\n",
    "                   parse_dates=[\"InvoiceDate\"]\n",
    "                   )\n",
    "\n",
    "# Information on the data frame\n",
    "print(\"Number of customers: \", df[\"Customer ID\"].nunique())\n",
    "print(\"Name of columns: \", df.columns)\n",
    "print(\"Number of features(colomns):\", len(df.columns))\n",
    "print(\"shape of the data frame: \", df.shape)\n"
   ]
  },
  {
   "cell_type": "markdown",
   "id": "b84ad5ab",
   "metadata": {},
   "source": [
    "## Cleaning the data\n",
    "Now we will try to clean the data, deleting lines without customers or resigned transactions and to remove duplicate values. We will also add a column \"Totalprice\" as the multiplication of the quantity by the unity prices."
   ]
  },
  {
   "cell_type": "code",
   "execution_count": 2,
   "id": "e8ef00f2",
   "metadata": {},
   "outputs": [
    {
     "name": "stdout",
     "output_type": "stream",
     "text": [
      "After drop nan Customer ID : (406830, 8)\n",
      "After deleting unfinished transaction/neg. quantity : (397925, 8)\n",
      "After drop_duplicates : (392733, 8)\n",
      "After adding 'TotalPrice':  (392733, 9)\n"
     ]
    }
   ],
   "source": [
    "# delete line without Customer id\n",
    "df = df.dropna(subset=[\"Customer ID\"])\n",
    "print(\"After drop nan Customer ID :\", df.shape)\n",
    "\n",
    "# delete not finish transaction and negative quantity\n",
    "mask_return = df[\"Quantity\"] < 0\n",
    "mask_cancel = df[\"Invoice\"].str.startswith(\"C\")\n",
    "df = df[~(mask_return | mask_cancel)]\n",
    "print(\"After deleting unfinished transaction/neg. quantity :\" , df.shape)\n",
    "\n",
    "# delete duplicate line\n",
    "df = df.drop_duplicates()\n",
    "print(\"After drop_duplicates :\", df.shape)\n",
    "\n",
    "# columns \"TotalPrice\"\n",
    "df[\"TotalPrice\"]=df[\"Quantity\"] * df[\"Price\"]\n",
    "print(\"After adding 'TotalPrice': \",df.shape)"
   ]
  },
  {
   "cell_type": "code",
   "execution_count": 5,
   "id": "8edb1dd2",
   "metadata": {},
   "outputs": [
    {
     "name": "stdout",
     "output_type": "stream",
     "text": [
      "Data frame: \n",
      "    Invoice StockCode                          Description  Quantity  \\\n",
      "0   536365    85123A   WHITE HANGING HEART T-LIGHT HOLDER         6   \n",
      "1   536365     71053                  WHITE METAL LANTERN         6   \n",
      "2   536365    84406B       CREAM CUPID HEARTS COAT HANGER         8   \n",
      "3   536365    84029G  KNITTED UNION FLAG HOT WATER BOTTLE         6   \n",
      "4   536365    84029E       RED WOOLLY HOTTIE WHITE HEART.         6   \n",
      "5   536365     22752         SET 7 BABUSHKA NESTING BOXES         2   \n",
      "6   536365     21730    GLASS STAR FROSTED T-LIGHT HOLDER         6   \n",
      "7   536366     22633               HAND WARMER UNION JACK         6   \n",
      "8   536366     22632            HAND WARMER RED POLKA DOT         6   \n",
      "9   536368     22960             JAM MAKING SET WITH JARS         6   \n",
      "10  536368     22913          RED COAT RACK PARIS FASHION         3   \n",
      "11  536368     22912       YELLOW COAT RACK PARIS FASHION         3   \n",
      "12  536368     22914         BLUE COAT RACK PARIS FASHION         3   \n",
      "13  536367     84879        ASSORTED COLOUR BIRD ORNAMENT        32   \n",
      "14  536367     22745           POPPY'S PLAYHOUSE BEDROOM          6   \n",
      "15  536367     22748            POPPY'S PLAYHOUSE KITCHEN         6   \n",
      "16  536367     22749    FELTCRAFT PRINCESS CHARLOTTE DOLL         8   \n",
      "17  536367     22310              IVORY KNITTED MUG COSY          6   \n",
      "18  536367     84969   BOX OF 6 ASSORTED COLOUR TEASPOONS         6   \n",
      "19  536367     22623        BOX OF VINTAGE JIGSAW BLOCKS          3   \n",
      "\n",
      "           InvoiceDate  Price Customer ID         Country  TotalPrice  \n",
      "0  2010-12-01 08:26:00   2.55       17850  United Kingdom       15.30  \n",
      "1  2010-12-01 08:26:00   3.39       17850  United Kingdom       20.34  \n",
      "2  2010-12-01 08:26:00   2.75       17850  United Kingdom       22.00  \n",
      "3  2010-12-01 08:26:00   3.39       17850  United Kingdom       20.34  \n",
      "4  2010-12-01 08:26:00   3.39       17850  United Kingdom       20.34  \n",
      "5  2010-12-01 08:26:00   7.65       17850  United Kingdom       15.30  \n",
      "6  2010-12-01 08:26:00   4.25       17850  United Kingdom       25.50  \n",
      "7  2010-12-01 08:28:00   1.85       17850  United Kingdom       11.10  \n",
      "8  2010-12-01 08:28:00   1.85       17850  United Kingdom       11.10  \n",
      "9  2010-12-01 08:34:00   4.25       13047  United Kingdom       25.50  \n",
      "10 2010-12-01 08:34:00   4.95       13047  United Kingdom       14.85  \n",
      "11 2010-12-01 08:34:00   4.95       13047  United Kingdom       14.85  \n",
      "12 2010-12-01 08:34:00   4.95       13047  United Kingdom       14.85  \n",
      "13 2010-12-01 08:34:00   1.69       13047  United Kingdom       54.08  \n",
      "14 2010-12-01 08:34:00   2.10       13047  United Kingdom       12.60  \n",
      "15 2010-12-01 08:34:00   2.10       13047  United Kingdom       12.60  \n",
      "16 2010-12-01 08:34:00   3.75       13047  United Kingdom       30.00  \n",
      "17 2010-12-01 08:34:00   1.65       13047  United Kingdom        9.90  \n",
      "18 2010-12-01 08:34:00   4.25       13047  United Kingdom       25.50  \n",
      "19 2010-12-01 08:34:00   4.95       13047  United Kingdom       14.85  \n"
     ]
    }
   ],
   "source": [
    "print(\"Data frame: \\n\", df.head(20))"
   ]
  },
  {
   "cell_type": "markdown",
   "id": "12579ce9",
   "metadata": {},
   "source": [
    "#### Some goals for this project:\n",
    "churn risk,RFM (Recency-Frequency-Monetary), tenure, panier moyen, determinate also the product that was the most sell in term of quantity and after in term of money bring to the campany. "
   ]
  },
  {
   "cell_type": "markdown",
   "id": "970b52ff",
   "metadata": {},
   "source": [
    "## Behavioral Variables (RFM)\n",
    "\n",
    "This variables define the behavior of a purchase of a customer. There are:\n",
    "\n",
    "- R(Recency): numbers of days since the last command. More this value is low, more the customer is recent and potentially engaged the customer is.\n",
    "- F(Frequency): total number of purchases the customer did in the period. This help to measure the faithfulness of the customer.\n",
    "- M(Monetay): total amount spent by the customer in this period. show the financial value of thar client for the company.\n",
    "\n",
    "Let's start."
   ]
  },
  {
   "cell_type": "markdown",
   "id": "50fdd9f1",
   "metadata": {},
   "source": []
  },
  {
   "cell_type": "code",
   "execution_count": 23,
   "id": "39f7f48f",
   "metadata": {},
   "outputs": [
    {
     "name": "stdout",
     "output_type": "stream",
     "text": [
      "Date limit:  344\n",
      "Recency data frame:\n",
      "      Customer ID  Recency\n",
      "0          12346      326\n",
      "1          12347        3\n",
      "2          12348       76\n",
      "3          12349       19\n",
      "4          12350      311\n",
      "...          ...      ...\n",
      "4334       18280      278\n",
      "4335       18281      181\n",
      "4336       18282        8\n",
      "4337       18283        4\n",
      "4338       18287       43\n",
      "\n",
      "[4339 rows x 2 columns]\n"
     ]
    }
   ],
   "source": [
    "# Date from which we will compute the number of days since the last command\n",
    "date_limit=max(df[\"InvoiceDate\"]) + pd.Timedelta(days=1)\n",
    "date_limit=pd.Timestamp(date_limit).day_of_year # the number of the day in the year\n",
    "\n",
    "print(\"Date limit: \",date_limit)\n",
    "\n",
    "#Building recency\n",
    "recency= (\n",
    "    df.groupby(\"Customer ID\")[\"InvoiceDate\"] # we group by customer and toke only their invoicedate\n",
    "    .max() #we select their greatest invoicedate, that means their last incode dat\n",
    "    .apply( lambda last_date: (date_limit-pd.Timestamp(last_date).day_of_year)) # we compute the difference\n",
    "    .reset_index() # to mage it a dataframe with two columns instead of one\n",
    "    .rename(columns={\"InvoiceDate\":\"Recency\"}) # change the name of the column into Recency\n",
    ")\n",
    "\n",
    "# Display\n",
    "print(\"Recency data frame:\\n\",recency)\n",
    "\n"
   ]
  },
  {
   "cell_type": "markdown",
   "id": "69f223c4",
   "metadata": {},
   "source": [
    "Let's say that if a customer did not return since 100 days, we could consider him like . Personaly I don't see what is the importance of ML method like K mean method here. "
   ]
  },
  {
   "cell_type": "code",
   "execution_count": null,
   "id": "01b751b1",
   "metadata": {},
   "outputs": [
    {
     "name": "stdout",
     "output_type": "stream",
     "text": [
      "Frequency data frame:\n",
      "      Customer ID  Frequency\n",
      "0          12346          1\n",
      "1          12347        182\n",
      "2          12348         31\n",
      "3          12349         73\n",
      "4          12350         17\n",
      "...          ...        ...\n",
      "4334       18280         10\n",
      "4335       18281          7\n",
      "4336       18282         12\n",
      "4337       18283        721\n",
      "4338       18287         70\n",
      "\n",
      "[4339 rows x 2 columns]\n"
     ]
    }
   ],
   "source": [
    "frequency=( \n",
    "    df.groupby(\"Customer ID\")[\"Invoice\"]\n",
    "    .count() #we count the number of invoice each customer have\n",
    "    .reset_index()\n",
    "    .rename(columns={\"Invoice\":\"Frequency\"})\n",
    ")\n",
    "\n",
    "print(\"Frequency data frame:\\n\",frequency)"
   ]
  },
  {
   "cell_type": "code",
   "execution_count": 29,
   "id": "1364c59e",
   "metadata": {},
   "outputs": [
    {
     "name": "stdout",
     "output_type": "stream",
     "text": [
      "Monetary data frame:\n",
      "      Customer ID  Monetary\n",
      "0          12346  77183.60\n",
      "1          12347   4310.00\n",
      "2          12348   1797.24\n",
      "3          12349   1757.55\n",
      "4          12350    334.40\n",
      "...          ...       ...\n",
      "4334       18280    180.60\n",
      "4335       18281     80.82\n",
      "4336       18282    178.05\n",
      "4337       18283   2045.53\n",
      "4338       18287   1837.28\n",
      "\n",
      "[4339 rows x 2 columns]\n"
     ]
    }
   ],
   "source": [
    "monetary=(\n",
    "    df.groupby(\"Customer ID\")[\"TotalPrice\"]\n",
    "    .sum() # we make the sum of each totalprice for each customer\n",
    "    .reset_index()\n",
    "    .rename(columns={\"TotalPrice\":\"Monetary\"})\n",
    ")\n",
    "\n",
    "print(\"Monetary data frame:\\n\",monetary)"
   ]
  },
  {
   "cell_type": "code",
   "execution_count": 31,
   "id": "d3eade29",
   "metadata": {},
   "outputs": [
    {
     "name": "stdout",
     "output_type": "stream",
     "text": [
      "RFM data frame:\n",
      "      Customer ID  Recency  Frequency  Monetary\n",
      "0          12346      326          1  77183.60\n",
      "1          12347        3        182   4310.00\n",
      "2          12348       76         31   1797.24\n",
      "3          12349       19         73   1757.55\n",
      "4          12350      311         17    334.40\n",
      "...          ...      ...        ...       ...\n",
      "4334       18280      278         10    180.60\n",
      "4335       18281      181          7     80.82\n",
      "4336       18282        8         12    178.05\n",
      "4337       18283        4        721   2045.53\n",
      "4338       18287       43         70   1837.28\n",
      "\n",
      "[4339 rows x 4 columns]\n"
     ]
    }
   ],
   "source": [
    "#we're going to concatenate all this data frame into one n the RFM data frame.\n",
    "rfm=recency.merge(frequency,on=\"Customer ID\")\\\n",
    "        .merge(monetary, on=\"Customer ID\")\n",
    "\n",
    "print(\"RFM data frame:\\n\",rfm)"
   ]
  },
  {
   "cell_type": "markdown",
   "id": "8001d3c2",
   "metadata": {},
   "source": [
    "### Scoring\n",
    "Now we will try to make the different groups using a scoring method.\n",
    "\n",
    "Let's choose 5 groups and say that:\n",
    "- for Recency: 1:the oldest customers(with older purchase dates) , 5: the regular people or the new ones\n",
    "- for Frequency: 1: the customer with lower number of purchase, 5: our regular customers\n",
    "- for Monetary: 1: customers who spent less money , 5: customer who spent much money"
   ]
  },
  {
   "cell_type": "code",
   "execution_count": 43,
   "id": "d0fb16b9",
   "metadata": {},
   "outputs": [
    {
     "name": "stdout",
     "output_type": "stream",
     "text": [
      "     Customer ID  Recency  Frequency  Monetary R_score F_score M_score\n",
      "0          12346      326          1  77183.60       1       1       5\n",
      "1          12347        3        182   4310.00       5       5       5\n",
      "2          12348       76         31   1797.24       2       3       4\n",
      "3          12349       19         73   1757.55       4       4       4\n",
      "4          12350      311         17    334.40       1       2       2\n",
      "...          ...      ...        ...       ...     ...     ...     ...\n",
      "4334       18280      278         10    180.60       1       1       1\n",
      "4335       18281      181          7     80.82       1       1       1\n",
      "4336       18282        8         12    178.05       5       1       1\n",
      "4337       18283        4        721   2045.53       5       5       4\n",
      "4338       18287       43         70   1837.28       3       4       4\n",
      "\n",
      "[4339 rows x 7 columns]\n"
     ]
    }
   ],
   "source": [
    "rfm[\"R_score\"]=pd.qcut(rfm[\"Recency\"],5,[5,4,3,2,1])\n",
    "rfm[\"F_score\"]=pd.qcut(rfm[\"Frequency\"],5,[1,2,3,4,5])\n",
    "rfm[\"M_score\"]=pd.qcut(rfm[\"Monetary\"],5,[1,2,3,4,5])\n",
    "\n",
    "print(rfm)"
   ]
  },
  {
   "cell_type": "markdown",
   "id": "10b5979a",
   "metadata": {},
   "source": [
    "Next, let's define 3 greats classes for our customers, the VIP, the regular ones and the ...\n",
    "\n",
    "\n",
    "talk also about the different marketing technics that we could applu to thos different classes."
   ]
  },
  {
   "cell_type": "markdown",
   "id": "6bb349d9",
   "metadata": {},
   "source": [
    "Now we will  build a machine learning model to find some correlation or some group amoung this customers."
   ]
  },
  {
   "cell_type": "code",
   "execution_count": 33,
   "id": "029e1924",
   "metadata": {},
   "outputs": [],
   "source": [
    "from sklearn.cluster import KMeans\n",
    "from sklearn.preprocessing import StandardScaler\n"
   ]
  },
  {
   "cell_type": "code",
   "execution_count": null,
   "id": "e4a80bba",
   "metadata": {},
   "outputs": [],
   "source": [
    "#Normalization of the data: to give to each column the same weight during the learning step\n",
    "scaler=StandardScaler()\n",
    "rfm_scaled=scaler.fit_transform(rfm[[\"Recency\",\"Frequency\",\"Monetary\"]]) # we scale only this three columns\n",
    "rfm_scaled=pd.DataFrame(rfm_scaled, columns=[\"Recency_norm\", \"Frequency_norm\",\"Monetary_norm\"]) #we add column names\n",
    "rfm_scaled=pd.concat([rfm[\"Customer ID\"], rfm_scaled], axis=1) # we just add the customer IDs\n",
    "\n",
    "\n",
    "# Building the model\n",
    "km_model=KMeans(int=4).fit()"
   ]
  },
  {
   "cell_type": "code",
   "execution_count": 42,
   "id": "a29727f4",
   "metadata": {},
   "outputs": [
    {
     "name": "stdout",
     "output_type": "stream",
     "text": [
      "     Customer ID  Recency_norm  Frequency_norm  Monetary_norm\n",
      "0          12346      2.703345       -0.396969       8.363977\n",
      "1          12347     -0.890450        0.405730       0.251779\n",
      "2          12348     -0.078230       -0.263925      -0.027939\n",
      "3          12349     -0.712429       -0.077664      -0.032357\n",
      "4          12350      2.536451       -0.326012      -0.190780\n",
      "...          ...           ...             ...            ...\n",
      "4334       18280      2.169283       -0.357056      -0.207901\n",
      "4335       18281      1.090031       -0.370360      -0.219009\n",
      "4336       18282     -0.834819       -0.348186      -0.208185\n",
      "4337       18283     -0.879324        2.796087      -0.000299\n",
      "4338       18287     -0.445398       -0.090968      -0.023482\n",
      "\n",
      "[4339 rows x 4 columns]\n"
     ]
    }
   ],
   "source": [
    "print(rfm_scaled)"
   ]
  },
  {
   "cell_type": "code",
   "execution_count": null,
   "id": "467bceee",
   "metadata": {},
   "outputs": [],
   "source": []
  },
  {
   "cell_type": "markdown",
   "id": "22feb34a",
   "metadata": {},
   "source": []
  }
 ],
 "metadata": {
  "kernelspec": {
   "display_name": "Python 3",
   "language": "python",
   "name": "python3"
  },
  "language_info": {
   "codemirror_mode": {
    "name": "ipython",
    "version": 3
   },
   "file_extension": ".py",
   "mimetype": "text/x-python",
   "name": "python",
   "nbconvert_exporter": "python",
   "pygments_lexer": "ipython3",
   "version": "3.10.12"
  }
 },
 "nbformat": 4,
 "nbformat_minor": 5
}
