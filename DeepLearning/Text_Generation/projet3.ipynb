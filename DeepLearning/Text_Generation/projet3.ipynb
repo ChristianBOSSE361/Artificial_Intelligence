{
 "cells": [
  {
   "cell_type": "markdown",
   "id": "2a652da5",
   "metadata": {},
   "source": [
    "# Project: Text Generation ()\n",
    "\n",
    "-Date: July 25 2025 -\n",
    "\n",
    "-Description: In this third project, we will try to build a model able to give the most possible character and to generate the rest of a text when we enter some words or part of Shakespear's text. "
   ]
  },
  {
   "cell_type": "code",
   "execution_count": null,
   "id": "cd513a35",
   "metadata": {},
   "outputs": [],
   "source": [
    "import torch\n",
    "import torchvision.datasets as datasets\n",
    "import torchvision.transforms as transforms\n",
    "from torch.utils.data import random_split\n",
    "import torch.nn as nn\n",
    "import torch.optim as optim\n",
    "from torch.utils.data import DataLoader\n",
    "import matplotlib.pyplot as plt\n",
    "import time"
   ]
  },
  {
   "cell_type": "code",
   "execution_count": null,
   "id": "1f293857",
   "metadata": {},
   "outputs": [],
   "source": [
    "data=datasets."
   ]
  }
 ],
 "metadata": {
  "kernelspec": {
   "display_name": "pytorch-env",
   "language": "python",
   "name": "python3"
  },
  "language_info": {
   "name": "python",
   "version": "3.10.12"
  }
 },
 "nbformat": 4,
 "nbformat_minor": 5
}
